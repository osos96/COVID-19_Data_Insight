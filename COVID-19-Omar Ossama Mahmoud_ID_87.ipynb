{
 "cells": [
  {
   "cell_type": "markdown",
   "metadata": {},
   "source": [
    "# **COVID-19 Analysis, Visualization and Comparison**\n",
    "### This project was made as a part of the Data Insight Program of 2020\n",
    "\n",
    "\n",
    "###### Author : Omar Ossama Mahmoud Ahmed\n",
    "###### ID #: 87\n",
    "<hr>"
   ]
  },
  {
   "cell_type": "markdown",
   "metadata": {},
   "source": [
    "![](datainsight.webp)\n",
    "<hr>"
   ]
  },
  {
   "cell_type": "markdown",
   "metadata": {},
   "source": [
    "# Introduction to COVID-19\n",
    "**Coronavirus** is a family of viruses that can cause illness, which can vary from *common cold* and *cough* to sometimes more severe disease. **Middle East Respiratory Syndrome (MERS-CoV)** and **Severe Acute Respiratory Syndrome (SARS-CoV)** were such severe cases with the world already has faced.<br>\n",
    "**SARS-CoV-2 (n-coronavirus)** is the new virus of the coronavirus family, which first *discovered* in 2019, which has not been identified in humans before. It is a *contiguous* virus which started from **Wuhan** in **December 2019**. Which later declared as **Pandemic** by **WHO** due to high rate spreads throughout the world. Currently (on date 23rd of April 2020), this leads to a total of 189K+ Deaths across the globe, including *110K+ deaths* alone in *Europe*.<br>\n",
    "Pandemic is spreading all over the world; it becomes more important to understand about this spread. This NoteBook is an effort to analyze the data of confirmed, deaths, and recovered cases over time. In this notebook, the main focus is to analyze the spread trend of this virus all over the world. \n",
    "\n",
    "\n",
    "### SOURSES: \n",
    "* [WHO](https://www.who.int/emergencies/diseases/novel-coronavirus-2019)\n",
    "* [CDC](https://www.cdc.gov/coronavirus/2019-nCoV/index.html)\n",
    "* [Worldometers COVID-19 Tracker](https://www.worldometers.info/world-population/population-by-country/)\n",
    "* [COVID-19 Tracker by Johns Hopkins University](https://www.arcgis.com/apps/opsdashboard/index.html#/bda7594740fd40299423467b48e9ecf6)\n",
    "\n",
    "\n",
    "### Dataset \n",
    "- 2019 Novel Coronavirus COVID-19 (2019-nCoV) [Data Repository](https://github.com/CSSEGISandData/COVID-19) by Johns Hopkins CSSE\n",
    "- This dataset is updated on daily basis by Johns Hopkins CSSE\n",
    "    \n",
    "    \n",
    "- 2020 Educational and Population Global [Data Repository](http://data.uis.unesco.org/) by UNESCO UIS Statistics\n",
    "\n",
    "- This dataset is updated on annual basis by UNESCO UIS Statistics\n",
    "   \n",
    "   \n",
    "- 2020 World Population by country and population density by [Worldometer.info](https://www.worldometers.info/world-population/population-by-country/)\n",
    "- This dataset is updated on monthly basis by Worldometers.info\n",
    "<hr>\n",
    "\n",
    "\n",
    "\n",
    "# Table of Content :\n",
    "\n",
    "<hr>\n",
    "\n",
    "* Introduction to COVID-19\n",
    "* Installing Libraries\n",
    "* Imports and Datasets\n",
    "* Defining Functions Used\n",
    "* Importing Datasets from Local files\n",
    "* Exploring Imported Datasets\n",
    "* Preprocessing of Datasets\n",
    "    - Cleaning Educational Dataset and Educational Population\n",
    "    - Exploring Cleaned Educational Datasets\n",
    "    - Cleaning COVID-19 and World Population & Density Datasets\n",
    "    - Exploring Cleaned COVID-19 Datasets\n",
    "* Statistical Analysis of COVID-19 Dataset\n",
    "    - Correlation Analysis\n",
    "    - Ploting CDF for confirmed cases counts\n",
    "    - Plotting PMF for categorical confirmed cases count through time\n",
    "    - Plotting PMF for categorical death cases count through time\n",
    "    - Plotting PMF for categorical recovered cases count through time\n",
    "    - Plotting PMF for categorical active cases count through time\n",
    "* General Data Analysis \n",
    "    - Latest Total counts on Global Scale\n",
    "    - Latest Total counts on Continental Scale\n",
    "    * Latest Total counts on National Scale\n",
    "* Visualization on Map\n",
    "    - Subsetting Data for map visualization using plotly_express\n",
    "    - Animated Global Confirmed Cases count through time\n",
    "    - Animated Global Death Cases count through time\n",
    "    - Animated Global Recovered Cases count through time\n",
    "    - Animated Global Active Cases count through time\n",
    "    - Animated Global Spread through time\n",
    "* Trend of Cases on Global Scale\n",
    "    - Worldwide Analysis\n",
    "    - International Analysis\n",
    "    - Finding the least and most active countries\n",
    "* Further Analysis on most and least active countries\n",
    "    - United States National Trends\n",
    "    - United Kingdom National Trends\n",
    "    - People's Republic of China National Trends\n",
    "    - Germany National Trends\n",
    "* Exploring Mortality Rates\n",
    "    - Finding most affected countries and most mortality rates\n",
    "    - Visualizing rate of change of mortality rate through time\n",
    "    - Exploring Mortality rate between Continents\n",
    "    - Investigating countries with highest mortality rates\n",
    "    - Visualizing rate of change of mortality rate through time for top countries\n",
    "* Exploring Population density wrt confirmed cases\n",
    "* Countries with the highest confirmed to population ratio\n",
    "* Exploring Population density wrt confirmed cases\n",
    "    - Exploring densities of countries with confirmed cases within IQR of 50%\n",
    "* Exploring Population illiteracy rate wrt confirmed cases\n",
    "    - Exploring the countries with the highest illiteracy rate\n",
    "* Final Thoughts"
   ]
  },
  {
   "cell_type": "markdown",
   "metadata": {},
   "source": [
    "## Installing Libraries\n",
    "<hr>"
   ]
  },
  {
   "cell_type": "code",
   "execution_count": null,
   "metadata": {},
   "outputs": [],
   "source": [
    "pip install pycountry"
   ]
  },
  {
   "cell_type": "code",
   "execution_count": null,
   "metadata": {},
   "outputs": [],
   "source": [
    "pip install empiricaldist"
   ]
  },
  {
   "cell_type": "code",
   "execution_count": null,
   "metadata": {},
   "outputs": [],
   "source": [
    "pip install plotly_express"
   ]
  },
  {
   "cell_type": "markdown",
   "metadata": {},
   "source": [
    "## Imports and Datasets\n",
    "<hr> \n",
    " \n",
    " * Pandas : for dataset handeling\n",
    " * Numpy : Support for Pandas and calculations\n",
    " * Datetime: for date and times calculations\n",
    " * Math : for mathimatical operations\n",
    " * Matplotlib : for visualization (basic)\n",
    " * Empiricaldist : for statistical analysis\n",
    " * Seaborn : for visualization and plotting (Presentable)\n",
    " * pycountry : Library for getting continent (name) to from their country names\n",
    " * plotly : for interative plots"
   ]
  },
  {
   "cell_type": "code",
   "execution_count": null,
   "metadata": {},
   "outputs": [],
   "source": [
    "import pandas as pd\n",
    "import numpy as np\n",
    "import matplotlib.pyplot as plt\n",
    "import seaborn as sns\n",
    "import datetime as dt\n",
    "import math\n",
    "import pycountry\n",
    "import pycountry_convert as pc\n",
    "from plotly.subplots import make_subplots\n",
    "import plotly_express as px\n",
    "import plotly.graph_objects as go\n",
    "import plotly.figure_factory as ff\n",
    "from plotly.subplots import make_subplots\n",
    "import empiricaldist as emp\n",
    "%matplotlib inline\n",
    "sns.set_style('darkgrid')\n",
    "import warnings\n",
    "warnings.filterwarnings('ignore')"
   ]
  },
  {
   "cell_type": "markdown",
   "metadata": {},
   "source": [
    "## Dataset Used\n",
    "<hr>\n",
    "\n",
    "### 2019 Novel Coronavirus COVID-19 (2019-nCoV) Data Repository by Johns Hopkins CSSE ([LINK](https://github.com/CSSEGISandData/COVID-19)) \n",
    "<hr>\n",
    "Dataset consists of time-series data from 22 JAN 2020 up to this date (Updated on daily Basis).<br>\n",
    "\n",
    "**Three Time-series dataset :**\n",
    "\n",
    "- time_series_covid19_confirmed_global.csv ([Link Raw File](https://raw.githubusercontent.com/CSSEGISandData/COVID-19/master/csse_covid_19_data/csse_covid_19_time_series/time_series_covid19_confirmed_global.csv))\n",
    "- time_series_19-covid-Deaths.csv ([Link Raw File](https://raw.githubusercontent.com/CSSEGISandData/COVID-19/master/csse_covid_19_data/csse_covid_19_time_series/time_series_19-covid-Deaths.csv))\n",
    "- time_series_covid19_deaths_global ([Link Raw File](https://raw.githubusercontent.com/CSSEGISandData/COVID-19/master/csse_covid_19_data/csse_covid_19_time_series/time_series_covid19_deaths_global.csv))\n",
    "\n",
    "<hr>"
   ]
  },
  {
   "cell_type": "markdown",
   "metadata": {},
   "source": [
    "## Defining Functions \n",
    "<hr>\n",
    "\n",
    "* ***ecdf() :***                     for CDF calculation\n",
    "* ***country_pick() :***             for filtering country by name from dataframe\n",
    "* ***pxplotline() :***               for plotting lineplots using plotly_express\n",
    "* ***mplotbar_single_country() :***  for plotting bar plots for one country using seaborn\n",
    "* ***mplotline_single_country() :*** for plotting line plots for one country using seaborn\n",
    "* ***mplotline_list_country() :***   for plotting line plots for multiple countries using seaborn\n",
    "* ***add_daily() :***                adds daily columns with daily counts calculated\n",
    "* ***gplotbar() :***                 for plotting interactive bar plots using plotly\n",
    "* ***get_country_details() :***      fetches country ISO and continent using pycountry\n",
    "* ***count_cat() :***                divides count columns into categories\n",
    "* ***convert() :***                  converts column to float\n",
    "<hr>"
   ]
  },
  {
   "cell_type": "code",
   "execution_count": null,
   "metadata": {},
   "outputs": [],
   "source": [
    "def ecdf(data):\n",
    "    #credits DataCamp Justin Bois\n",
    "    \"\"\"Compute ECDF for a one-dimensional array of measurements.\"\"\"\n",
    "    # Number of data points: n\n",
    "    n = len(data)\n",
    "\n",
    "    # x-data for the ECDF: x\n",
    "    x = np.sort(data)\n",
    "\n",
    "    # y-data for the ECDF: y\n",
    "    y = np.arange(1, n+1) / n\n",
    "\n",
    "    return x, y\n",
    "\n",
    "def country_pick(main_df,country_name,startdate):\n",
    "    \n",
    "    \"\"\"Filters Selected Dataframe using country name\"\"\"\n",
    "    \n",
    "    df = main_df[main_df['country'] == country_name].reset_index().drop('index',axis=1)\n",
    "    df = df[df.Date >= startdate]\n",
    "    return df\n",
    "\n",
    "def pxplotline(main_df,sub_df,y,x ='Date',title='No Title',hd=['pop']):\n",
    "    \n",
    "    \"\"\"Plots line plot using plotly_express from selected Dataframe\"\"\"\n",
    "    \n",
    "    df = main_df.groupby(['country','Date','confirmed%','mortality%'],as_index=False)['confirmed','death','recovered','active'].sum()\n",
    "    df = df.merge(sub_df,on='country')\n",
    "    df.drop(['Date_y','confirmed_y','death_y','recovered_y','active_y','confirmed%_y','mortality%_y'],axis=1,inplace=True)\n",
    "    df.rename(columns={'Date_x':'Date','confirmed_x':'confirmed','death_x':'death','recovered_x':'recovered','active_x':'active','confirmed%_x':'confirmed%','mortality%_x':'mortality%'},inplace=True)\n",
    "    fig = px.line(df,x = x, y = y, color='country',title = title,hover_data=hd)\n",
    "    fig.show()\n",
    "    \n",
    "def mplotbar_single_country(main_df,country_name,startdate,y,title='No Title'):\n",
    "        \n",
    "    \"\"\"Plots bar plot using seaborn for a single country from selected Dataframe\"\"\"\n",
    "    \n",
    "    data = country_pick(main_df,country_name,startdate)\n",
    "    fig, ax = plt.subplots(figsize = (20,10))\n",
    "    fig2 = sns.barplot(data = data, x = 'Date', y = y, ax = ax,color = '#6495ED')\n",
    "    ax.set_xticklabels(labels=data.Date.dt.strftime('%Y-%m-%d'), rotation=45, ha='right')\n",
    "    plt.title(title)\n",
    "    \n",
    "def mplotline_single_country(main_df,country_name,startdate,y,title='No Title'):\n",
    "        \n",
    "    \"\"\"Plots line plot using seaborn for a single country from selected Dataframe\"\"\"\n",
    "    \n",
    "    data = country_pick(main_df,country_name,startdate)\n",
    "    fig, ax = plt.subplots(figsize = (20,10))\n",
    "    fig = sns.lineplot(data = data , x = 'Date',y = y,marker = 'o',ax = ax)\n",
    "    ax.set(xticks=data.Date.values)\n",
    "    _=ax.set_xticklabels(labels=data.Date.dt.strftime('%m-%d'), rotation=45)\n",
    "    plt.title(title)\n",
    "    \n",
    "def mplotline_list_country(main_df,country_names,startdate,y,fig=(20,10)):\n",
    "            \n",
    "    \"\"\"Plots line plot using seaborn for a list of countries from selected Dataframe\"\"\"\n",
    "    \n",
    "    fig, ax = plt.subplots(figsize = fig)\n",
    "    for i in country_names:\n",
    "        df = main_df[main_df['country'] == i]\n",
    "        df = df[df.Date >= startdate]\n",
    "        fig = sns.lineplot(data = df , x = 'Date',y = y,marker = '.',ax = ax,label = i)\n",
    "    ax.set(xticks=df.Date.values)\n",
    "    _=ax.set_xticklabels(labels=df.Date.dt.strftime('%m-%d'), rotation=45)\n",
    "    plt.legend()\n",
    "\n",
    "def add_daily(df):\n",
    "            \n",
    "    \"\"\"Adds columns of daily counts increase to selected Dataframe\"\"\"\n",
    "    \n",
    "    df.loc[0,'daily_confirmed'] = df.loc[0,'confirmed']\n",
    "    df.loc[0,'daily_death'] = df.loc[0,'death']\n",
    "    df.loc[0,'daily_recovered'] = df.loc[0,'recovered']\n",
    "    df.loc[0,'daily_active'] = df.loc[0,'active']\n",
    "    for i in range(1,len(df)):\n",
    "        df.loc[i,'daily_confirmed'] = df.loc[i,'confirmed'] - df.loc[i-1,'confirmed']\n",
    "        df.loc[i,'daily_death'] = df.loc[i,'death'] - df.loc[i-1,'death']\n",
    "        df.loc[i,'daily_recovered'] = df.loc[i,'recovered'] - df.loc[i-1,'recovered']\n",
    "        df.loc[i,'daily_active'] = df.loc[i,'active'] - df.loc[i-1,'active']\n",
    "    df.loc[0,'daily_confirmed'] = 0\n",
    "    df.loc[0,'daily_death'] = 0\n",
    "    df.loc[0,'daily_recovered'] = 0\n",
    "    df.loc[0,'daily_active'] = 0\n",
    "    return df\n",
    "\n",
    "def gplotbar(main_df,countryname,cols,startdate='1/1/2020',daily=False,title='No Title'):\n",
    "            \n",
    "    \"\"\"Plots bar plot using plotly_express for a multiple countries from selected Dataframe\"\"\"\n",
    "    \n",
    "    if daily == True:\n",
    "        if countryname == 'all':\n",
    "            df = add_daily(main_df.groupby('Date',as_index=False).sum())\n",
    "            df = df[df.Date >= startdate]\n",
    "            data=[]\n",
    "            for i in cols:\n",
    "                data.append(go.Bar(name = f'daily_{i}',x = df['Date'], y = df[f'daily_{i}']))\n",
    "            fig = go.Figure(data=data)\n",
    "            fig.update_layout(barmode='overlay', title=title)\n",
    "            fig.show()\n",
    "        else:\n",
    "            df = add_daily(main_df[main_df['country'] == countryname].groupby('Date',as_index=False).sum())\n",
    "            df = df[df.Date >= startdate]\n",
    "            data=[]\n",
    "            for i in cols:\n",
    "                data.append(go.Bar(name = f'daily_{i}',x = df['Date'], y = df[f'daily_{i}']))\n",
    "            fig = go.Figure(data=data)\n",
    "            fig.update_layout(barmode='overlay', title=title)\n",
    "            fig.show()\n",
    "    else:\n",
    "        \n",
    "        if countryname == 'all':\n",
    "            df = main_df.groupby('Date',as_index=False).sum()\n",
    "            df = df[df.Date >= startdate]\n",
    "            data=[]\n",
    "            for i in cols:\n",
    "                data.append(go.Bar(name = i,x = df['Date'], y = df[i]))\n",
    "            fig = go.Figure(data=data)\n",
    "            fig.update_layout(barmode='overlay', title=title)\n",
    "            fig.show()\n",
    "        else:\n",
    "            df = main_df[main_df['country'] == countryname].groupby('Date',as_index=False).sum()\n",
    "            df = df[df.Date >= startdate]\n",
    "            data=[]\n",
    "            for i in cols:\n",
    "                data.append(go.Bar(name = i,x = df['Date'], y = df[i]))\n",
    "            fig = go.Figure(data=data)\n",
    "            fig.update_layout(barmode='overlay', title=title)\n",
    "            fig.show()\n",
    "\n",
    "def get_country_details(country):\n",
    "    \n",
    "    \"\"\"Returns country ISO and continent\"\"\"\n",
    "    \n",
    "    try:\n",
    "        country_obj = pycountry.countries.get(name=country)\n",
    "        if country_obj is None:\n",
    "            c = pycountry.countries.search_fuzzy(country)\n",
    "            country_obj = c[0]\n",
    "        continent_code = pc.country_alpha2_to_continent_code(country_obj.alpha_2)\n",
    "        continent = pc.convert_continent_code_to_continent_name(continent_code)\n",
    "        return country_obj.alpha_3, continent\n",
    "    except:\n",
    "        if 'Congo' in country:\n",
    "            country = 'Congo'\n",
    "        elif country == 'Diamond Princess' or country == 'Laos' or country == 'MS Zaandam'\\\n",
    "        or country == 'Holy See' or country == 'Timor-Leste':\n",
    "            return country, country\n",
    "        elif country == 'Korea, South' or country == 'South Korea':\n",
    "            country = 'Korea, Republic of'\n",
    "        elif country == 'Taiwan*':\n",
    "            country = 'Taiwan'\n",
    "        elif country == 'Burma':\n",
    "            country = 'Myanmar'\n",
    "        elif country == 'West Bank and Gaza':\n",
    "            country = 'Gaza'\n",
    "        else:\n",
    "            return country, country\n",
    "        country_obj = pycountry.countries.search_fuzzy(country)\n",
    "        continent_code = pc.country_alpha2_to_continent_code(country_obj[0].alpha_2)\n",
    "        continent = pc.convert_continent_code_to_continent_name(continent_code)\n",
    "        return country_obj[0].alpha_3, continent\n",
    "    \n",
    "    \n",
    "def count_cat(n):\n",
    "            \n",
    "    \"\"\"Returns catagorical group of a number\"\"\"\n",
    "    \n",
    "    if n < 25:\n",
    "        return '< 25'\n",
    "    elif (n >= 25) & (n <= 50):\n",
    "        return '< 50'\n",
    "    elif (n >= 50) & (n <= 100):\n",
    "        return '< 100'\n",
    "    elif (n >= 100) & (n <= 200):\n",
    "        return '< 200'\n",
    "    elif (n >= 200) & (n <= 1000):\n",
    "        return '< 1000'\n",
    "    elif (n >= 1000) & (n <= 5000):\n",
    "        return '< 5000'\n",
    "    elif (n >= 5000) & (n <= 10000):\n",
    "        return '< 10,000'\n",
    "    elif (n >= 10000) & (n <=30000):\n",
    "        return '< 30,000'\n",
    "    elif (n >= 30000) & (n <= 100000):\n",
    "        return '< 100,000'\n",
    "    elif (n >= 100000) & (n <= 150000):\n",
    "        return '< 150,000'\n",
    "    elif (n >= 150000) & (n <= 200000):\n",
    "        return '< 200,000'\n",
    "    elif (n >= 200000) & (n <= 250000):\n",
    "        return '< 250,000'\n",
    "    elif (n >= 250000) & (n <= 300000):\n",
    "        return '< 300,000'\n",
    "    elif (n >= 300000) & (n <= 400000):\n",
    "        return '< 400,000'\n",
    "    elif (n >= 400000) & (n <= 500000):\n",
    "        return '< 500,000'\n",
    "    else:\n",
    "        return '> 500,000'\n",
    "    \n",
    "    \n",
    "def convert(pop):\n",
    "            \n",
    "    \"\"\"Converts Dataframe column to float\"\"\"\n",
    "    \n",
    "    if pop == float('nan'):\n",
    "        return 0.0\n",
    "    return float(pop.replace(',',''))"
   ]
  },
  {
   "cell_type": "markdown",
   "metadata": {},
   "source": [
    "## Importing Datasets from Local files\n",
    "<hr>\n",
    "\n",
    "#### COVID-19 Datasets from Johns Hopkins CSSE\n",
    "* ***time_series_covid19_confirmed_global.csv :*** COVID-19 Confirmed Counts Dataset from Johns Hopkins CSSE\n",
    "* ***time_series_covid19_deaths_global.csv :*** COVID-19 Death Counts Dataset from Johns Hopkins CSSE\n",
    "* ***time_series_covid19_recovered_global.csv:*** COVID-19 Recovered Counts Dataset from Johns Hopkins CSSE\n",
    "\n",
    "\n",
    "#### Educational Datasets from UNIESCO UIS Statistics\n",
    "* ***DataEd2.csv :*** Educational Dataset from UNIESCO UIS Statistics\n",
    "* ***pop.csv :*** Educational population Dataset\n",
    "\n",
    "\n",
    "#### World Population & Density Datasets from Worldometers.info\n",
    "* ***wpop2.csv :*** World Population & Density Dataset from Worldometers.info\n",
    "<hr>"
   ]
  },
  {
   "cell_type": "code",
   "execution_count": null,
   "metadata": {
    "slideshow": {
     "slide_type": "-"
    }
   },
   "outputs": [],
   "source": [
    "#Importing datasets of COVID-19 Confirmed, Death and Recovered counts\n",
    "confirmed_cases = pd.read_csv('https://raw.githubusercontent.com/CSSEGISandData/COVID-19/master/csse_covid_19_data/csse_covid_19_time_series/time_series_covid19_confirmed_global.csv')\n",
    "death_cases = pd.read_csv('https://raw.githubusercontent.com/CSSEGISandData/COVID-19/master/csse_covid_19_data/csse_covid_19_time_series/time_series_covid19_deaths_global.csv')\n",
    "recovered_cases = pd.read_csv('https://raw.githubusercontent.com/CSSEGISandData/COVID-19/master/csse_covid_19_data/csse_covid_19_time_series/time_series_covid19_recovered_global.csv')\n",
    "\n",
    "\n",
    "#Importing datasets of education and educational population\n",
    "ed = pd.read_csv('D:\\DATASCIENCE\\Project 1\\COVID-19\\Datasets\\\\education_illiteracy.csv')\n",
    "pop = pd.read_csv('D:\\DATASCIENCE\\Project 1\\COVID-19\\Datasets\\\\educational_population.csv')\n",
    "\n",
    "\n",
    "#Importing datasets of world population and density\n",
    "worldpop = pd.read_csv('D:\\DATASCIENCE\\Project 1\\COVID-19\\Datasets\\\\world_population.csv')\n"
   ]
  },
  {
   "cell_type": "markdown",
   "metadata": {},
   "source": [
    "## Exploring Imported Datasets\n",
    "<hr>\n",
    "\n",
    "Using .head(),.describe() and .info() methods of pandas"
   ]
  },
  {
   "cell_type": "code",
   "execution_count": null,
   "metadata": {},
   "outputs": [],
   "source": [
    "display(confirmed_cases.head())\n",
    "display(confirmed_cases.describe())\n",
    "display(confirmed_cases.info())\n",
    "\n",
    "display(worldpop.head())\n",
    "display(worldpop.describe())\n",
    "display(worldpop.info())\n",
    "\n",
    "display(ed.head())\n",
    "display(ed.describe())\n",
    "display(ed.info())"
   ]
  },
  {
   "cell_type": "markdown",
   "metadata": {},
   "source": [
    "## Preprocessing of Datasets\n",
    "<hr>\n",
    "\n",
    "### Cleaning Educational Dataset and Educational Population\n",
    "<hr>"
   ]
  },
  {
   "cell_type": "code",
   "execution_count": null,
   "metadata": {},
   "outputs": [],
   "source": [
    "#Filtering using Indicators\n",
    "ed = ed[ed.Indicator == 'Youth illiterate population, 15-24 years, both sexes (number)']\n",
    "\n",
    "#Filtering & renaming important columns\n",
    "ed = ed.drop(['EDULIT_IND','Indicator','LOCATION','Time','Flag Codes','Flags'],axis =1).rename(columns={'Country':'country','TIME':'year','Value':'illiterate'})\n",
    "\n",
    "#Drop missing values\n",
    "dropped = ed[ed['illiterate'] >= 0]\n",
    "\n",
    "#Getting the mean of the available data\n",
    "max_ed = dropped.groupby(['country']).mean()\n",
    "\n",
    "#Making sure year is int\n",
    "max_ed['year'] = max_ed['year'].apply(math.trunc)\n",
    "\n",
    "#Reseting index\n",
    "max_ed = max_ed.reset_index()\n",
    "\n",
    "#Filtering & renaming important columns\n",
    "pop = pop[(pop.Indicator == 'School age population, upper secondary education, both sexes (number)') | (pop.Indicator =='School age population, tertiary education, both sexes (number)')]\n",
    "pop = pop.drop(['EDULIT_IND','Indicator','LOCATION','Time','Flag Codes','Flags'],axis =1).rename(columns={'Country':'country','TIME':'year','Value':'pop'})\n",
    "pop = pop.groupby(['country','year'],as_index = False).sum()\n",
    "\n",
    "#Merging educational data\n",
    "edu_df = max_ed.merge(pop,on = ['country','year'])\n",
    "edu_df['illiterate%'] = (edu_df['illiterate'] * 100) / (edu_df['pop'])\n",
    "edu_df.drop([46,75,123],axis=0,inplace = True)\n",
    "edu_df = edu_df.reset_index(drop=True)\n",
    "edu_df['ISO'] = 'ISO'\n",
    "edu_df[\"continent\"] = 'continent'\n",
    "\n",
    "\n",
    "for i in range(len(edu_df)):\n",
    "    if edu_df['country'][i] == 'Sint Maarten':\n",
    "        edu_df['ISO'][i] = 'NLSX'\n",
    "        edu_df[\"continent\"][i] = 'Europe'\n",
    "    elif edu_df['country'][i] == 'North Korea':\n",
    "        edu_df['ISO'][i] = 'PRK'\n",
    "        edu_df[\"continent\"][i] = 'Asia'\n",
    "    else:\n",
    "        edu_df['ISO'][i] = get_country_details(edu_df['country'][i])[0]\n",
    "        edu_df['continent'][i] = get_country_details(edu_df['country'][i])[1]"
   ]
  },
  {
   "cell_type": "markdown",
   "metadata": {},
   "source": [
    "### Exploring Cleaned Datasets\n",
    "<hr>\n",
    "\n",
    "Using .head(),.describe() and .info() methods of pandas"
   ]
  },
  {
   "cell_type": "code",
   "execution_count": null,
   "metadata": {},
   "outputs": [],
   "source": [
    "display(edu_df.head())\n",
    "display(edu_df.describe())\n",
    "display(edu_df.info())"
   ]
  },
  {
   "cell_type": "markdown",
   "metadata": {},
   "source": [
    "### Cleaning COVID-19 and World Population & Density Datasets\n",
    "<hr>"
   ]
  },
  {
   "cell_type": "code",
   "execution_count": null,
   "metadata": {},
   "outputs": [],
   "source": [
    "#world population and country information dataframe\n",
    "\n",
    "#Renaming columns in worldpop df to simplify use\n",
    "worldpop.rename(columns={'Country (or dependent territory)':'country','Population':'pop','Density pop./km2':'density pop/km2'},inplace=True)\n",
    "\n",
    "#Selecting columns of interest\n",
    "worldpop = worldpop[['country','pop','density pop/km2']]\n",
    "\n",
    "#Adding columns to use as reference\n",
    "worldpop[\"ISO\"] = 'ISO'\n",
    "worldpop[\"continent\"] = 'continent'\n",
    "for i in range(len(worldpop)):\n",
    "    if worldpop['country'][i] == 'Sint Maarten':\n",
    "        worldpop['ISO'][i] = 'NLSX'\n",
    "        worldpop[\"continent\"][i] = 'Europe'\n",
    "    elif worldpop['country'][i] == 'North Korea':\n",
    "        worldpop['ISO'][i] = 'PRK'\n",
    "        worldpop[\"continent\"][i] = 'Asia'\n",
    "    else:\n",
    "        worldpop['ISO'][i] = get_country_details(worldpop['country'][i])[0]\n",
    "        worldpop['continent'][i] = get_country_details(worldpop['country'][i])[1]\n",
    "worldpop['density pop/km2'] = worldpop.apply(lambda x: convert(x['density pop/km2']),axis=1)\n",
    "worldpop['pop'] = worldpop.apply(lambda x: convert(x['pop']),axis=1)\n",
    "\n",
    "#Selecting columns of interest\n",
    "worldpop = worldpop[['ISO','pop','density pop/km2','continent']]\n",
    "worldpop.drop(191,axis = 0,inplace=True)\n",
    "worldpop.drop(124,axis = 0,inplace=True)\n",
    "\n",
    "\n",
    "#confirmed cases dataframe cleaning\n",
    "\n",
    "#dropping columns insted of selecting many columns of interest\n",
    "confirmed_cases.drop(['Lat','Long','Province/State'],axis = 1,inplace=True)\n",
    "\n",
    "#Renaming columns in confirmed cases df to simplify use\n",
    "confirmed_cases.rename(columns={'Country/Region':'country'},inplace=True)\n",
    "\n",
    "#Creating column ISO for referencing \n",
    "confirmed_cases['ISO'] ='ISO'\n",
    "for i in range(len(confirmed_cases)):\n",
    "    confirmed_cases['ISO'][i] = get_country_details(confirmed_cases['country'][i])[0]\n",
    "    \n",
    "#transforming df through groupby and melt to reshape date columns\n",
    "confirmed_cases = confirmed_cases.groupby(['country','ISO'],as_index=False).sum()\n",
    "confirmed_cases = confirmed_cases.melt(id_vars=['country','ISO'],var_name='Date',value_name='confirmed')\n",
    "\n",
    "#creating catagorical column to simplify distribution analysis\n",
    "confirmed_cases['confirmed_cat'] = 'BASE'\n",
    "for i in range(len(confirmed_cases)):\n",
    "    confirmed_cases['confirmed_cat'][i] = count_cat(confirmed_cases['confirmed'][i])\n",
    "confirmed_cases['confirmed_cat'] = pd.Categorical(confirmed_cases['confirmed_cat'],categories=['< 25','< 50','< 100','< 200','< 1000','< 5000','< 10,000','< 30,000','< 100,000','< 150,000','< 200,000','< 250,000','< 300,000','< 400,000','< 500,000','> 500,000'],ordered=True)\n",
    "\n",
    "    \n",
    "#death cases dataframe\n",
    "    \n",
    "#dropping columns insted of selecting many columns of interest    \n",
    "death_cases.drop(['Lat','Long','Province/State'],axis = 1,inplace=True)\n",
    "\n",
    "#Renaming columns in death cases df to simplify use\n",
    "death_cases.rename(columns={'Country/Region':'country'},inplace=True)\n",
    "\n",
    "#transforming df through groupby and melt to reshape date columns\n",
    "death_cases = death_cases.groupby('country',as_index=False).sum()\n",
    "death_cases = death_cases.melt(id_vars='country',var_name='Date',value_name='death')\n",
    "\n",
    "#creating catagorical column to simplify distribution analysis\n",
    "death_cases['death_cat'] = 'BASE'\n",
    "for i in range(len(death_cases)):\n",
    "    death_cases['death_cat'][i] = count_cat(death_cases['death'][i])\n",
    "death_cases['death_cat'] = pd.Categorical(death_cases['death_cat'],categories=['< 25','< 50','< 100','< 200','< 1000','< 5000','< 10,000','< 30,000','< 100,000','< 150,000','< 200,000','< 250,000','< 300,000','< 400,000','< 500,000','> 500,000'],ordered=True)\n",
    "\n",
    "\n",
    "#recovered cases dataframe\n",
    "\n",
    "#dropping columns insted of selecting many columns of interest \n",
    "recovered_cases.drop(['Lat','Long','Province/State'],axis = 1,inplace=True)\n",
    "\n",
    "#Renaming columns in recovered cases df to simplify use\n",
    "recovered_cases.rename(columns={'Country/Region':'country'},inplace=True)\n",
    "\n",
    "#transforming df through groupby and melt to reshape date columns\n",
    "recovered_cases = recovered_cases.groupby('country',as_index=False).sum()\n",
    "recovered_cases = recovered_cases.melt(id_vars='country',var_name='Date',value_name='recovered')\n",
    "\n",
    "#creating catagorical column to simplify distribution analysis\n",
    "recovered_cases['recovered_cat'] = 'BASE'\n",
    "\n",
    "for i in range(len(recovered_cases)):\n",
    "    recovered_cases['recovered_cat'][i] = count_cat(recovered_cases['recovered'][i])\n",
    "recovered_cases['recovered_cat'] = pd.Categorical(recovered_cases['recovered_cat'],categories=['< 25','< 50','< 100','< 200','< 1000','< 5000','< 10,000','< 30,000','< 100,000','< 150,000','< 200,000','< 250,000','< 300,000','< 400,000','< 500,000','> 500,000'],ordered=True)\n",
    "\n",
    "# Main df (full_df) with combined dfs using merge\n",
    "\n",
    "#using ISO as base to reference worldpop df\n",
    "full_df = confirmed_cases\n",
    "full_df = full_df.merge(death_cases)\n",
    "full_df = full_df.merge(recovered_cases)\n",
    "\n",
    "#merging on ISO\n",
    "full_df = full_df.merge(worldpop,on = 'ISO')\n",
    "\n",
    "#converting date column to date object\n",
    "full_df.Date = pd.to_datetime(full_df.Date,format = '%m/%d/%y')\n",
    "\n",
    "#creating active cases column and its catagorical column to simplify distribution analysis\n",
    "#initializing columns\n",
    "full_df['active'] = 0\n",
    "full_df['active_cat'] = 'BASE'\n",
    "\n",
    "#Calculating values\n",
    "for i in range(len(full_df)):\n",
    "    full_df['active'][i] = (full_df['confirmed'][i]) - (full_df['death'][i] + full_df['recovered'][i])\n",
    "    full_df['active_cat'][i] = count_cat(full_df['active'][i])\n",
    "\n",
    "#Categorising column\n",
    "full_df['active_cat'] = pd.Categorical(full_df['active_cat'],categories=['< 25','< 50','< 100','< 200','< 1000','< 5000','< 10,000','< 30,000','< 100,000','< 150,000','< 200,000','< 250,000','< 300,000','< 400,000','< 500,000','> 500,000'],ordered=True)\n",
    "\n",
    "\n",
    "#adding mortality percentage, confirmed cases to population percentage and active to confirmed percentage\n",
    "#initializing columns\n",
    "full_df['mortality%'] = 'mort'\n",
    "full_df['confirmed%'] = 'per'\n",
    "full_df['active%'] = 'perc'\n",
    "\n",
    "#creating columns\n",
    "for i in range(len(full_df)):\n",
    "    full_df['confirmed%'][i] = round(((100 * full_df.confirmed[i]) / full_df['pop'][i]), 4)\n",
    "    if full_df.confirmed[i] == 0:\n",
    "        full_df['mortality%'][i] = 0\n",
    "        full_df['active%'][i] = 0\n",
    "    else:\n",
    "        full_df['mortality%'][i] = (100 * full_df.death[i]) / full_df.confirmed[i]\n",
    "        full_df['active%'][i] = full_df['active'][i] * 100 / full_df['confirmed'][i]\n",
    "\n",
    "\n",
    "#Converting Datatypes of added columns to floats\n",
    "full_df['mortality%'] = pd.to_numeric(full_df['mortality%'], downcast=\"float\")\n",
    "full_df['confirmed%'] = pd.to_numeric(full_df['confirmed%'], downcast=\"float\")\n",
    "full_df['active%'] = pd.to_numeric(full_df['active%'], downcast=\"float\")"
   ]
  },
  {
   "cell_type": "markdown",
   "metadata": {},
   "source": [
    "### Exploring Cleaned Datasets\n",
    "<hr>\n",
    "\n",
    "Using .head(),.describe() and .info() methods of pandas"
   ]
  },
  {
   "cell_type": "code",
   "execution_count": null,
   "metadata": {},
   "outputs": [],
   "source": [
    "display(full_df.head())\n",
    "display(full_df.describe())\n",
    "display(full_df.info())"
   ]
  },
  {
   "cell_type": "markdown",
   "metadata": {},
   "source": [
    "## Statistical Analysis of COVID-19 Dataset\n",
    "\n",
    "### Correlation analysis of cleaned data\n",
    "<hr>\n",
    "\n",
    "Using .corr() method to find correlations between data knowing that correlation does not necessarily mean causation"
   ]
  },
  {
   "cell_type": "code",
   "execution_count": null,
   "metadata": {
    "scrolled": true
   },
   "outputs": [],
   "source": [
    "full_df.corr().style.background_gradient(cmap='Blues')"
   ]
  },
  {
   "cell_type": "markdown",
   "metadata": {},
   "source": [
    "##### **Correlation shows:**\n",
    "\n",
    "- A strong positive correlation between confirmed, death, recovered and active columns (Which to be expected)\n",
    "- A moderate positive correlation between population and confirmed columns\n",
    "- A weak negative between density and confirmed columns (which is unexpected) probably due to US high cases count and low density"
   ]
  },
  {
   "cell_type": "markdown",
   "metadata": {},
   "source": [
    "### Ploting CDF for confirmed cases counts\n",
    "<hr>\n",
    "Using ecdf() function and plotly library to plot CDF for the beginning of the outbreak on the 22nd of January and for the last recorded day to compare the spread of data"
   ]
  },
  {
   "cell_type": "code",
   "execution_count": null,
   "metadata": {
    "scrolled": false
   },
   "outputs": [],
   "source": [
    "#Using ecdf to compute the CDF\n",
    "x1,y1 = list(ecdf(full_df[(full_df.Date == full_df.Date.min())].confirmed))\n",
    "x,y = list(ecdf(full_df[(full_df.Date == full_df.Date.max())].confirmed))\n",
    "\n",
    "#Create a subplot to fit two axis\n",
    "fig = make_subplots(rows=1, cols=2,subplot_titles=(f'''Cumulative distribution function on {full_df.Date.min().strftime('%m/%d/%Y')}''', f'''Cumulative distribution function on {full_df.Date.max().strftime(\"%m/%d/%Y\")}'''))\n",
    "\n",
    "#add first plot at the minimum date recorded\n",
    "fig.add_trace(\n",
    "    go.Scatter(x= x1,y = y1,name = f'''{full_df.Date.min().strftime('%m/%d/%Y')}'''),\n",
    "    row=1, col=1\n",
    ")\n",
    "\n",
    "#add second plot at the maximum date recorded\n",
    "fig.add_trace(\n",
    "    go.Scatter(x = x,y = y,name = f'''{full_df.Date.max().strftime('%m/%d/%Y')}'''),\n",
    "    row=1, col=2\n",
    ")\n",
    "\n",
    "#control title and figure dimentions\n",
    "fig.update_layout(height=500, width=1000, title_text=\"Cumulative distribution functions\")\n",
    "fig.show()"
   ]
  },
  {
   "cell_type": "markdown",
   "metadata": {},
   "source": [
    "##### **CDF shows:**\n",
    "\n",
    "- Spread of data is starting to occure with 95% of the confirmed cases counts are 80K or less"
   ]
  },
  {
   "cell_type": "markdown",
   "metadata": {},
   "source": [
    "### **Plotting PMF for categorical confirmed cases count through time:**\n",
    "<hr>\n",
    "\n",
    "Plotting probability mass function for confirmed cases distribution through the four quantiles in the data, to observe the evolution of spread over time."
   ]
  },
  {
   "cell_type": "code",
   "execution_count": null,
   "metadata": {
    "scrolled": false
   },
   "outputs": [],
   "source": [
    "# Set up the matplotlib figure\n",
    "f, axes = plt.subplots(2, 2, figsize=(15, 15),sharex=True);\n",
    "_=sns.despine(left=True);\n",
    "\n",
    "\n",
    "#distribution of data at 4 quantiles of Dates\n",
    "for i , j in {0.25:axes[0,0],0.5:axes[0,1],0.75:axes[1,0],1:axes[1,1]}.items():\n",
    "    d = full_df[full_df.Date == full_df.Date.quantile(i).strftime('%m/%d/%Y')].sort_values(by = 'confirmed_cat');\n",
    "    _=sns.catplot(data = d, x=\"confirmed_cat\", kind=\"count\", palette=\"ch:.25\", ax=j);\n",
    "    _=j.title.set_text(f'''Distribution of confirmed cases at {full_df.Date.quantile(i).strftime('%m/%d/%Y')} (PMF)''');\n",
    "    plt.close()\n",
    "\n",
    "#Rotating x labels\n",
    "for axes in f.axes:\n",
    "     plt.sca(axes)\n",
    "     plt.xticks(rotation=90)"
   ]
  },
  {
   "cell_type": "markdown",
   "metadata": {},
   "source": [
    "### **Plotting PMF for categorical death cases count through time:**\n",
    "<hr>\n",
    "\n",
    "Plotting probability mass function for death cases distribution through the four quantiles in the data, to observe the evolution of spread over time."
   ]
  },
  {
   "cell_type": "code",
   "execution_count": null,
   "metadata": {
    "scrolled": false
   },
   "outputs": [],
   "source": [
    "# Set up the matplotlib figure\n",
    "f, axes = plt.subplots(2, 2, figsize=(15, 15),sharex=True);\n",
    "_=sns.despine(left=True);\n",
    "\n",
    "\n",
    "#distribution of data at 4 quantiles of Dates\n",
    "for i , j in {0.25:axes[0,0],0.5:axes[0,1],0.75:axes[1,0],1:axes[1,1]}.items():\n",
    "    d = full_df[full_df.Date == full_df.Date.quantile(i).strftime('%m/%d/%Y')].sort_values(by = 'death_cat');\n",
    "    _=sns.catplot(data = d, x=\"death_cat\", kind=\"count\", palette=\"ch:.25\", ax=j);\n",
    "    _=j.title.set_text(f'''Distribution of death cases at {full_df.Date.quantile(i).strftime('%m/%d/%Y')} (PMF)''');\n",
    "    plt.close()\n",
    "\n",
    "#Rotating x labels\n",
    "for axes in f.axes:\n",
    "     plt.sca(axes)\n",
    "     plt.xticks(rotation=90)"
   ]
  },
  {
   "cell_type": "markdown",
   "metadata": {},
   "source": [
    "### **Plotting PMF for categorical recovered cases count through time:**\n",
    "<hr>\n",
    "\n",
    "Plotting probability mass function for recovered cases distribution through the four quantiles in the data, to observe the evolution of spread over time."
   ]
  },
  {
   "cell_type": "code",
   "execution_count": null,
   "metadata": {},
   "outputs": [],
   "source": [
    "# Set up the matplotlib figure\n",
    "f, axes = plt.subplots(2, 2, figsize=(15, 15),sharex=True);\n",
    "_=sns.despine(left=True);\n",
    "\n",
    "\n",
    "#distribution of data at 4 quantiles of Dates\n",
    "for i , j in {0.25:axes[0,0],0.5:axes[0,1],0.75:axes[1,0],1:axes[1,1]}.items():\n",
    "    d = full_df[full_df.Date == full_df.Date.quantile(i).strftime('%m/%d/%Y')].sort_values(by = 'recovered_cat');\n",
    "    _=sns.catplot(data = d, x=\"recovered_cat\", kind=\"count\", palette=\"ch:.25\", ax=j);\n",
    "    _=j.title.set_text(f'''Distribution of recovered cases at {full_df.Date.quantile(i).strftime('%m/%d/%Y')} (PMF)''');\n",
    "    plt.close()\n",
    "\n",
    "#Rotating x labels\n",
    "for axes in f.axes:\n",
    "     plt.sca(axes)\n",
    "     plt.xticks(rotation=90)"
   ]
  },
  {
   "cell_type": "markdown",
   "metadata": {},
   "source": [
    "### **Plotting PMF for categorical active cases count through time:**\n",
    "<hr>\n",
    "\n",
    "Plotting probability mass function for active cases distribution through the four quantiles in the data, to observe the evolution of spread over time."
   ]
  },
  {
   "cell_type": "code",
   "execution_count": null,
   "metadata": {},
   "outputs": [],
   "source": [
    "# Set up the matplotlib figure\n",
    "f, axes = plt.subplots(2, 2, figsize=(15, 15),sharex=True);\n",
    "_=sns.despine(left=True);\n",
    "\n",
    "\n",
    "#distribution of data at 4 quantiles of Dates\n",
    "for i , j in {0.25:axes[0,0],0.5:axes[0,1],0.75:axes[1,0],1:axes[1,1]}.items():\n",
    "    d = full_df[full_df.Date == full_df.Date.quantile(i).strftime('%m/%d/%Y')].sort_values(by = 'active_cat');\n",
    "    _=sns.catplot(data = d, x=\"active_cat\", kind=\"count\", palette=\"ch:.25\", ax=j);\n",
    "    _=j.title.set_text(f'''Distribution of active cases at {full_df.Date.quantile(i).strftime('%m/%d/%Y')} (PMF)''');\n",
    "    plt.close()\n",
    "\n",
    "#Rotating x labels\n",
    "for axes in f.axes:\n",
    "     plt.sca(axes)\n",
    "     plt.xticks(rotation=90)"
   ]
  },
  {
   "cell_type": "markdown",
   "metadata": {},
   "source": [
    "##### **PMF shows:**\n",
    "\n",
    "- Spread of cases and change in their distribution through time, where all cases types spreading to higher counts through short interval of time."
   ]
  },
  {
   "cell_type": "markdown",
   "metadata": {},
   "source": [
    "## General Data Analysis\n",
    "<hr>\n",
    "\n",
    "### Latest Total counts on Global Scale\n",
    "<hr>"
   ]
  },
  {
   "cell_type": "code",
   "execution_count": null,
   "metadata": {},
   "outputs": [],
   "source": [
    "global_latest_count = full_df[full_df.Date == full_df.Date.max()].groupby('Date').sum()[['confirmed','death','recovered','active']]\n",
    "global_latest_count['mortality%'] = global_latest_count.death * 100 / global_latest_count.confirmed\n",
    "display(global_latest_count)"
   ]
  },
  {
   "cell_type": "markdown",
   "metadata": {},
   "source": [
    "### Latest Total counts on Continental Scale\n",
    "<hr>"
   ]
  },
  {
   "cell_type": "code",
   "execution_count": null,
   "metadata": {},
   "outputs": [],
   "source": [
    "global_latest_count = full_df[full_df.Date == full_df.Date.max()].groupby('continent').sum()[['confirmed','death','recovered','active']]\n",
    "global_latest_count['mortality%'] = global_latest_count.death * 100 / global_latest_count.confirmed\n",
    "display(global_latest_count[global_latest_count.confirmed>1000].style.background_gradient(cmap='Blues',subset=[\"confirmed\"])\\\n",
    "                        .background_gradient(cmap='Reds',subset=[\"death\"])\\\n",
    "                        .background_gradient(cmap='Greens',subset=[\"recovered\"])\\\n",
    "                        .background_gradient(cmap='YlOrBr',subset=[\"mortality%\"])\\\n",
    "                        .background_gradient(cmap='Purples',subset=[\"active\"])\n",
    "                        )"
   ]
  },
  {
   "cell_type": "markdown",
   "metadata": {},
   "source": [
    "### Latest Total counts on National Scale\n",
    "<hr>"
   ]
  },
  {
   "cell_type": "code",
   "execution_count": null,
   "metadata": {
    "scrolled": false
   },
   "outputs": [],
   "source": [
    "global_latest_count = full_df[full_df.Date == full_df.Date.max()].groupby('country').sum()[['confirmed','death','recovered','active']]\n",
    "global_latest_count['mortality%'] = global_latest_count.death * 100 / global_latest_count.confirmed\n",
    "display(global_latest_count.sort_values(by = 'confirmed',ascending = False).style.background_gradient(cmap='Blues',subset=[\"confirmed\"])\\\n",
    "                        .background_gradient(cmap='Reds',subset=[\"death\"])\\\n",
    "                        .background_gradient(cmap='Greens',subset=[\"recovered\"])\\\n",
    "                        .background_gradient(cmap='YlOrBr',subset=[\"mortality%\"])\\\n",
    "                        .background_gradient(cmap='Purples',subset=[\"active\"])\n",
    "                        )"
   ]
  },
  {
   "cell_type": "markdown",
   "metadata": {},
   "source": [
    "#### **Conclusions :**\n",
    "<hr>\n",
    "\n",
    "- US has the highest confirmed, deaths and active cases counts.\n",
    "- Germany has the highest Recovery counts.\n",
    "- Belgium has the highest Mortality Rate.\n",
    "- Europe has more counts than North America, South America and Africa combined. "
   ]
  },
  {
   "cell_type": "markdown",
   "metadata": {},
   "source": [
    "# Visualization on Map\n",
    "<hr>\n",
    "\n",
    ">Since, cases and deaths have grown exponentially over the past three months through out the world, I have plotted the choropleth map on logarithmic scale. You can hover on the country to know the total confirmed cases or deaths.\n",
    "\n",
    "### Subsetting Data for map visualization using plotly_express"
   ]
  },
  {
   "cell_type": "code",
   "execution_count": null,
   "metadata": {},
   "outputs": [],
   "source": [
    "#subsetting from full_df for mapping with log scale\n",
    "world_df = full_df.groupby(['country','Date','ISO','mortality%','confirmed%'],as_index=False).sum()\n",
    "world_df['Date'] = world_df.Date.apply(lambda x: x.date()).apply(str)\n",
    "world_df['ln_confirmed'] = np.log(world_df.confirmed + 1)\n",
    "world_df['ln_death'] = np.log(world_df.death + 1)\n",
    "world_df['ln_recovered'] = np.log(world_df.recovered + 1)\n",
    "world_df['ln_mortality%'] = np.log(world_df['mortality%'] + 1)\n",
    "world_df['ln_active'] = np.log(world_df['active'] + 1)"
   ]
  },
  {
   "cell_type": "markdown",
   "metadata": {},
   "source": [
    "### Animated Global Confirmed Cases count through time\n",
    "<hr>"
   ]
  },
  {
   "cell_type": "code",
   "execution_count": null,
   "metadata": {},
   "outputs": [],
   "source": [
    "px.choropleth(world_df, \n",
    "              locations=\"ISO\", \n",
    "              color=\"ln_confirmed\", \n",
    "              hover_name=\"country\", \n",
    "              hover_data=[\"death\"] ,\n",
    "              animation_frame=\"Date\",\n",
    "              color_continuous_scale='Purples',title='Confirmed Cases Worldwide (log scale)')"
   ]
  },
  {
   "cell_type": "markdown",
   "metadata": {},
   "source": [
    "### Animated Global Death Cases count through time\n",
    "<hr>"
   ]
  },
  {
   "cell_type": "code",
   "execution_count": null,
   "metadata": {},
   "outputs": [],
   "source": [
    "px.choropleth(world_df, \n",
    "              locations=\"ISO\", \n",
    "              color=\"ln_death\", \n",
    "              hover_name=\"country\", \n",
    "              hover_data=[\"recovered\"] ,\n",
    "              animation_frame=\"Date\",\n",
    "              color_continuous_scale='Reds',title='Death Cases Worldwide (log scale)')"
   ]
  },
  {
   "cell_type": "markdown",
   "metadata": {},
   "source": [
    "### Animated Global Recovered Cases count through time\n",
    "<hr>"
   ]
  },
  {
   "cell_type": "code",
   "execution_count": null,
   "metadata": {},
   "outputs": [],
   "source": [
    "px.choropleth(world_df, \n",
    "              locations=\"ISO\", \n",
    "              color=\"ln_recovered\", \n",
    "              hover_name=\"country\", \n",
    "              hover_data=[\"death\"] ,\n",
    "              animation_frame=\"Date\",\n",
    "              color_continuous_scale='Greens',title='Recovered Cases Worldwide (log scale)')"
   ]
  },
  {
   "cell_type": "markdown",
   "metadata": {},
   "source": [
    "### Animated Global Active Cases count through time\n",
    "<hr>"
   ]
  },
  {
   "cell_type": "code",
   "execution_count": null,
   "metadata": {
    "scrolled": false
   },
   "outputs": [],
   "source": [
    "px.choropleth(world_df, \n",
    "              locations=\"ISO\", \n",
    "              color='active', \n",
    "              hover_name=\"country\", \n",
    "              hover_data=[\"death\"] ,\n",
    "              animation_frame=\"Date\",\n",
    "              color_continuous_scale='amp',title='Active Cases Worldwide (log scale)')"
   ]
  },
  {
   "cell_type": "markdown",
   "metadata": {},
   "source": [
    "### Animated Global Spread through time\n",
    "<hr>"
   ]
  },
  {
   "cell_type": "code",
   "execution_count": null,
   "metadata": {},
   "outputs": [],
   "source": [
    "df_data = full_df.groupby(['country','Date'],as_index = False)['confirmed','death'].max()\n",
    "df_data[\"Date\"] = pd.to_datetime( df_data[\"Date\"]).dt.strftime('%m/%d/%Y')\n",
    "\n",
    "fig = px.scatter_geo(df_data, locations=\"country\", locationmode='country names', \n",
    "                     color=df_data[\"confirmed\"],\n",
    "                     size= np.power(df_data[\"confirmed\"]+1,0.3)-1,\n",
    "                     hover_name=\"country\",\n",
    "                     hover_data=[\"confirmed\"],\n",
    "                     range_color= [0, max(df_data[\"confirmed\"])-1], \n",
    "                     animation_frame=\"Date\", \n",
    "                     color_continuous_scale=px.colors.sequential.Plasma,\n",
    "                     title='Virus Spread through time (confirmed cases)'\n",
    "                    )\n",
    "fig.update_coloraxes(colorscale=\"hot\")\n",
    "fig.update(layout_coloraxis_showscale=False)\n",
    "fig.show()"
   ]
  },
  {
   "cell_type": "markdown",
   "metadata": {},
   "source": [
    "#### **Conclusions :**\n",
    "<hr>\n",
    "\n",
    "- China was the first country to experience the COVID-19 outbreak.\n",
    "- US, Spain and Italy, which are the worst affected countries, didn't record almost any cases from the beginning of the outbreak in january. This indicates the fast spread of the virus.\n",
    "- US and Western Europe are the worst affected. Therefore as the virus spreads from Eastern Asia to Western Europe and US,they are considered the new virus epicenter.\n",
    "- Partial/Total Lockdown or quarantine in China led to controling spread and managing deaths and activity with minimum active cases and low death rate."
   ]
  },
  {
   "cell_type": "markdown",
   "metadata": {},
   "source": [
    "## Trend of Cases on Global Scale\n",
    "<hr>\n",
    "\n",
    "Finding top 10 countries affected. Since, the Confirmed cases and Deaths are the cummulative sums till date. Adding daily counts is recommended."
   ]
  },
  {
   "cell_type": "markdown",
   "metadata": {},
   "source": [
    "### Worldwide Analysis\n",
    "<hr>\n",
    "\n",
    "Starting off with worldwide data analysis using bar plots to get a general sense of how data growth seems to behave."
   ]
  },
  {
   "cell_type": "code",
   "execution_count": null,
   "metadata": {},
   "outputs": [],
   "source": [
    "gplotbar(full_df,cols=['confirmed','active','recovered','death'],title='Worldwide total Cases, Recoveries and Deaths counts',countryname='all')"
   ]
  },
  {
   "cell_type": "code",
   "execution_count": null,
   "metadata": {},
   "outputs": [],
   "source": [
    "gplotbar(full_df,daily=True,countryname='all',cols=['confirmed','active','recovered','death'],title='Worldwide Daily Cases, Recoveries and Deaths counts')"
   ]
  },
  {
   "cell_type": "code",
   "execution_count": null,
   "metadata": {},
   "outputs": [],
   "source": [
    "df_temp = full_df.melt(id_vars = ['country','Date','ISO','confirmed%','mortality%','pop','confirmed_cat','death_cat','recovered_cat','density pop/km2','continent','active_cat','active%'],var_name = 'Case Type',value_name='count').groupby(['Date','Case Type'],as_index=False).sum()[['Date','Case Type','count']]\n",
    "px.line(df_temp,x = \"Date\", y = 'count',color = 'Case Type',title='Worldwide Cases, Recoveries and Deaths counts')"
   ]
  },
  {
   "cell_type": "code",
   "execution_count": null,
   "metadata": {},
   "outputs": [],
   "source": [
    "df_temp = add_daily(full_df.groupby('Date',as_index=False).sum()[['Date','confirmed','death','recovered','active']])[['Date','daily_confirmed','daily_death','daily_recovered','daily_active']]\n",
    "df_temp = df_temp.melt(id_vars = ['Date'],var_name = 'Case Type',value_name='count').groupby(['Date','Case Type'],as_index=False).sum()[['Date','Case Type','count']]\n",
    "px.line(df_temp,x = \"Date\", y = 'count',color = 'Case Type',title='Worldwide Daily Cases, Recoveries and Deaths counts')"
   ]
  },
  {
   "cell_type": "markdown",
   "metadata": {},
   "source": [
    "#### **Conclusions :**\n",
    "<hr>\n",
    "\n",
    " - World Confirmed cases seem to increase almost exponentially and started to take off from mid March 2020.\n",
    " - World Recovered cases started to increase almost exponentially from the beginning of April 2020.\n",
    " - World Active cases started to decline from the end of March 2020.\n",
    " - World Death cases seem to be in steady increase with low curve line."
   ]
  },
  {
   "cell_type": "markdown",
   "metadata": {},
   "source": [
    "### International Analysis\n",
    "<hr>\n",
    "\n",
    "Figuring out top countries with confirmed, death, recovered, active cases and deduce trends and conclusions from.\n",
    "\n",
    "<hr>\n",
    "\n",
    ">***TIP :*** Click on US in the legend of the graph to have a more clear view of the data."
   ]
  },
  {
   "cell_type": "code",
   "execution_count": null,
   "metadata": {
    "scrolled": false
   },
   "outputs": [],
   "source": [
    "sub_df = full_df[full_df.Date == full_df.Date.max()].nlargest(10,'confirmed')\n",
    "pxplotline(full_df,sub_df,'confirmed',x ='Date',title='Total # Cases for top 10 affected countries')\n",
    "# sub_df.country.apply(get_country_details)"
   ]
  },
  {
   "cell_type": "markdown",
   "metadata": {},
   "source": [
    " ##### Deductions :\n",
    " - Six of the top ten countries Confirmed cases are European countries.\n",
    " - US is the top count country.\n",
    " - Belgium is the 10th country with confirmed cases."
   ]
  },
  {
   "cell_type": "code",
   "execution_count": null,
   "metadata": {},
   "outputs": [],
   "source": [
    "sub_df = full_df[full_df.Date == full_df.Date.max()].nlargest(10,'death')\n",
    "pxplotline(full_df,sub_df,'death',x ='Date',title='Total # Deaths for top 10 affected countries')\n",
    "#sub_df.country.apply(get_country_details)"
   ]
  },
  {
   "cell_type": "markdown",
   "metadata": {},
   "source": [
    " ##### Deductions :\n",
    " - Seven of the top ten countries Death cases are European countries.\n",
    " - US is the top Death cases count country.\n",
    " - Netherlands is the 10th country with Death cases."
   ]
  },
  {
   "cell_type": "code",
   "execution_count": null,
   "metadata": {},
   "outputs": [],
   "source": [
    "sub_df = full_df[full_df.Date == full_df.Date.max()].nlargest(10,'recovered')\n",
    "pxplotline(full_df,sub_df,'recovered',x ='Date',title='Total # Recovered for top 10 affected countries')\n",
    "#sub_df.country.apply(get_country_details)"
   ]
  },
  {
   "cell_type": "markdown",
   "metadata": {},
   "source": [
    " ##### Deductions :\n",
    " - Five of the top ten countries Reccovered cases are European countries.\n",
    " - Germany is the top Recovered cases count country.\n",
    " - Canada is the 10th country with Recovered cases."
   ]
  },
  {
   "cell_type": "code",
   "execution_count": null,
   "metadata": {
    "scrolled": false
   },
   "outputs": [],
   "source": [
    "sub_df = full_df[full_df.Date == full_df.Date.max()].nlargest(10,'active')\n",
    "pxplotline(full_df,sub_df,'active',x ='Date',title='Total # Active for top 10 affected countries')\n",
    "#sub_df.country.apply(get_country_details)"
   ]
  },
  {
   "cell_type": "markdown",
   "metadata": {},
   "source": [
    " ##### Deductions :\n",
    " - Eight of the top ten countries Active cases are European countries.\n",
    " - US is the top Active cases count country.\n",
    " - Belgium is the 10th country with Death cases."
   ]
  },
  {
   "cell_type": "markdown",
   "metadata": {},
   "source": [
    "#### **Conclusions :**\n",
    "<hr>\n",
    "\n",
    " - Europe is the most critical continent with very high confirmed cases, high deaths and high active cases.\n",
    " - US is with most confirmed, death and active cases and is considered the new virus epicenter.\n",
    " - China is the most rapid recovery rate yet Germany has the most count.\n",
    " - No African countries and only one Asian country are in the top ten countries with active cases ."
   ]
  },
  {
   "cell_type": "markdown",
   "metadata": {},
   "source": [
    "### Finding the least and most active countries\n",
    ">Finding the most active and least active in the top ten most affected countries is reflective of how the virus envelops one country after the other and how some countries seemed to overcome the challange."
   ]
  },
  {
   "cell_type": "code",
   "execution_count": null,
   "metadata": {},
   "outputs": [],
   "source": [
    "least_active = full_df[full_df.Date == full_df.Date.max()].sort_values('confirmed',ascending = False)[['country','confirmed','death','recovered','active','active%']]\n",
    "least_active = least_active.nlargest(10,'confirmed')\n",
    "least_active = least_active.sort_values(by = 'active%')"
   ]
  },
  {
   "cell_type": "code",
   "execution_count": null,
   "metadata": {},
   "outputs": [],
   "source": [
    "display(least_active.style.background_gradient(cmap='Blues',subset=[\"confirmed\"])\\\n",
    "                        .background_gradient(cmap='Reds',subset=[\"death\"])\\\n",
    "                        .background_gradient(cmap='Greens',subset=[\"recovered\"])\\\n",
    "                        .background_gradient(cmap='YlOrBr',subset=[\"active\"])\\\n",
    "                        .background_gradient(cmap='Purples',subset=[\"active%\"]))"
   ]
  },
  {
   "cell_type": "markdown",
   "metadata": {},
   "source": [
    "#### **Conclusions :**\n",
    "<hr>\n",
    "\n",
    " - US is the top country with confirmed cases\n",
    " - United Kingdom is the top country with active cases percentage of total confirmed cases\n",
    " - China is the least country with active cases percentage of total confirmed cases\n",
    " - Germany is the top country with recovered cases"
   ]
  },
  {
   "cell_type": "markdown",
   "metadata": {},
   "source": [
    "## Further Analysis on most and least active countries\n",
    "\n",
    "<hr>\n",
    "\n",
    "Starting analysis with US as it is the top country with confirmed cases, following up with United Kingdom as it has the highest percentage of active cases. Finalizing this part of the analysis with contrary countries. Starting with China, having the least percentage of active cases, following with Germany, having the most recovered cases."
   ]
  },
  {
   "cell_type": "markdown",
   "metadata": {},
   "source": [
    "### United States National Trends\n",
    "<hr>\n",
    "Starting analysis with progression from the 1st of March 2020."
   ]
  },
  {
   "cell_type": "code",
   "execution_count": null,
   "metadata": {},
   "outputs": [],
   "source": [
    "gplotbar(full_df,'US',cols=['confirmed','active','recovered','death'],daily=False,title = 'US Cases, Deaths, Recovered and Active cases on from 3/1/2020',startdate='3/1/2020')"
   ]
  },
  {
   "cell_type": "code",
   "execution_count": null,
   "metadata": {},
   "outputs": [],
   "source": [
    "#Creating a reshaped df with Case Type as one column\n",
    "country_all = full_df.melt(id_vars = ['country','Date','ISO','confirmed%','mortality%','pop','confirmed_cat','death_cat','recovered_cat','density pop/km2','continent','active_cat','active%'],var_name = 'Case Type')\n",
    "\n",
    "\n",
    "countryname= 'US'\n",
    "fig = px.line(country_all[(country_all['country'] == countryname)],x = 'Date', y = 'value',color = 'Case Type',title=f'Progression of Case types for {countryname} through time')\n",
    "fig.show()"
   ]
  },
  {
   "cell_type": "code",
   "execution_count": null,
   "metadata": {
    "scrolled": false
   },
   "outputs": [],
   "source": [
    "gplotbar(full_df,daily=True,countryname='US',cols=['confirmed','active','recovered','death'],title='US Daily Cases, Recoveries and Deaths counts on Daily Basis from 3/1/2020',startdate='3/1/2020')"
   ]
  },
  {
   "cell_type": "markdown",
   "metadata": {},
   "source": [
    "#### **Conclusions :**\n",
    "<hr>\n",
    "\n",
    "- US Started Lockdown on the 22nd of March.\n",
    "- Since the lockdown 'Active Cases' has ever been dropping.\n",
    "- Since 29th of March Recovered Cases has started to increase yet death rate is increasing too. Which may suggest a weak healthcare system.\n",
    "- Cases in the US are growing almost exponentially.\n",
    "- US is considered and due to this data a virus epicenter."
   ]
  },
  {
   "cell_type": "markdown",
   "metadata": {},
   "source": [
    "### United Kingdom National Trends\n",
    "<hr>\n",
    "Starting analysis with progression from the 1st of March 2020."
   ]
  },
  {
   "cell_type": "code",
   "execution_count": null,
   "metadata": {},
   "outputs": [],
   "source": [
    "gplotbar(full_df,'United Kingdom',cols=['confirmed','active','death','recovered'],daily=False,title = 'UK Cases, Deaths, Recovered and Active cases from 3/1/2020',startdate='3/1/2020')"
   ]
  },
  {
   "cell_type": "code",
   "execution_count": null,
   "metadata": {},
   "outputs": [],
   "source": [
    "#Creating a reshaped df with Case Type as one column\n",
    "country_all = full_df.melt(id_vars = ['country','Date','ISO','confirmed%','mortality%','pop','confirmed_cat','death_cat','recovered_cat','density pop/km2','continent','active_cat','active%'],var_name = 'Case Type')\n",
    "\n",
    "\n",
    "countryname= 'United Kingdom'\n",
    "fig = px.line(country_all[(country_all['country'] == countryname)],x = 'Date', y = 'value',color = 'Case Type',title=f'Progression of Case types for {countryname} through time')\n",
    "fig.show()"
   ]
  },
  {
   "cell_type": "code",
   "execution_count": null,
   "metadata": {
    "scrolled": false
   },
   "outputs": [],
   "source": [
    "gplotbar(full_df,daily=True,countryname='United Kingdom',cols=['confirmed','active','death','recovered'],title='UK Cases, Deaths, Recovered and Active cases on Daily Basis from 3/1/2020',startdate='3/1/2020')"
   ]
  },
  {
   "cell_type": "markdown",
   "metadata": {},
   "source": [
    "#### **Conclusions :**\n",
    "<hr>\n",
    "\n",
    "- UK Started Lockdown on the 23rd of March.\n",
    "- Since the lockdown 'Active Cases' has ever been dropping with low rate until the 1st of April.\n",
    "- Since 26th of March Death Cases has started to increase yet Recovery rate is very low. Which may suggest a very weak healthcare system.\n",
    "- Cases in the UK are growing almost exponentially.\n",
    "- UK has a very high active case rate and very low recovery rate, as the data shows, UK is in a severe crisis.\n",
    "- Despite the low recovery rate in the UK, the cases daily count is stabilizing since the 11th of April. "
   ]
  },
  {
   "cell_type": "markdown",
   "metadata": {},
   "source": [
    "### People's Republic of China National Trends\n",
    "<hr>\n",
    "Starting analysis with progression from the 22nd of January 2020."
   ]
  },
  {
   "cell_type": "code",
   "execution_count": null,
   "metadata": {
    "scrolled": false
   },
   "outputs": [],
   "source": [
    "gplotbar(full_df,daily=False,countryname='China',cols=['confirmed','active','recovered','death'],title='China Cases, Deaths, Recovered and Active cases from 1/22/2020')"
   ]
  },
  {
   "cell_type": "code",
   "execution_count": null,
   "metadata": {},
   "outputs": [],
   "source": [
    "#Creating a reshaped df with Case Type as one column\n",
    "country_all = full_df.melt(id_vars = ['country','Date','ISO','confirmed%','mortality%','pop','confirmed_cat','death_cat','recovered_cat','density pop/km2','continent','active_cat','active%'],var_name = 'Case Type')\n",
    "\n",
    "\n",
    "countryname= 'China'\n",
    "fig = px.line(country_all[(country_all['country'] == countryname)],x = 'Date', y = 'value',color = 'Case Type',title=f'Total Case types for {countryname}')\n",
    "fig.show()"
   ]
  },
  {
   "cell_type": "code",
   "execution_count": null,
   "metadata": {},
   "outputs": [],
   "source": [
    "gplotbar(full_df,daily=True,countryname='China',cols=['confirmed','active','recovered','death'],title='China Cases, Deaths, Recovered and Active cases on Daily Basis from 1/22/2020')"
   ]
  },
  {
   "cell_type": "markdown",
   "metadata": {},
   "source": [
    "#### **Conclusions :**\n",
    "<hr>\n",
    "\n",
    "- China is the virus origin and first epicenter. An outbreak that started on the 22nd of January 2020.\n",
    "- China Started Lockdown on the 23rd of January. Which is the earliest country to start Lockdown.\n",
    "- Active cases started dropping after around 10 days from the lockdown.\n",
    "- Since the 13th of February Death Cases has started to decrease significantly.\n",
    "- Since the 4th of February -11 days after the lockdown- Recovery cases has started increasing and doubling.\n",
    "- China had a very effective and robust Lockdown, and a very effective healthcare system, which resulted in very low death rate, very high recovery rate and minimum active cases rate globally. "
   ]
  },
  {
   "cell_type": "markdown",
   "metadata": {},
   "source": [
    "### Germany National Trends\n",
    "<hr>\n",
    "Starting analysis with progression from the 1st of March 2020."
   ]
  },
  {
   "cell_type": "code",
   "execution_count": null,
   "metadata": {
    "scrolled": false
   },
   "outputs": [],
   "source": [
    "gplotbar(full_df,daily=False,countryname='Germany',cols=['confirmed','active','recovered','death'],title='Germany Cases, Deaths, Recovered and Active cases from 3/1/2020',startdate='3/1/2020')"
   ]
  },
  {
   "cell_type": "code",
   "execution_count": null,
   "metadata": {},
   "outputs": [],
   "source": [
    "#Creating a reshaped df with Case Type as one column\n",
    "country_all = full_df.melt(id_vars = ['country','Date','ISO','confirmed%','mortality%','pop','confirmed_cat','death_cat','recovered_cat','density pop/km2','continent','active_cat','active%'],var_name = 'Case Type')\n",
    "\n",
    "\n",
    "countryname= 'Germany'\n",
    "fig = px.line(country_all[(country_all['country'] == countryname)],x = 'Date', y = 'value',color = 'Case Type',title=f'Progression of Case types for {countryname} through time')\n",
    "fig.show()"
   ]
  },
  {
   "cell_type": "code",
   "execution_count": null,
   "metadata": {},
   "outputs": [],
   "source": [
    "gplotbar(full_df,daily=True,countryname='Germany',cols=['confirmed','active','recovered','death'],title='Germany Cases, Deaths, Recovered and Active cases on Daily Basis from 3/1/2020',startdate='3/1/2020')"
   ]
  },
  {
   "cell_type": "markdown",
   "metadata": {},
   "source": [
    "#### **Conclusions :**\n",
    "<hr>\n",
    "\n",
    "- Germany Started Lockdown on the 22rd of March.\n",
    "- Active cases started dropping rapidly ever since.\n",
    "- Since the 13th of April Recovery count surpassed the active cases count.\n",
    "- Death Cases in Germany never reached critical points.\n",
    "- Germany had a very effective and robust Lockdown, and a very effective healthcare system, which resulted in very low death rate, very high recovery rate and active cases count are in steady decrease. "
   ]
  },
  {
   "cell_type": "markdown",
   "metadata": {},
   "source": [
    "## Exploring Mortality Rates\n",
    "<hr>\n",
    "\n",
    "The mortality rate is a critical indicator in such crises as it translates the percentage of deaths to confirmed cases and describes how aggressive the pandemic is to individual countries. In this section, Mortality rate is explored to find trends and patterns as well as analyse which countries are in more critical condition."
   ]
  },
  {
   "cell_type": "markdown",
   "metadata": {},
   "source": [
    "### Finding most affected countries and most mortality rates\n",
    "<hr>\n",
    "\n",
    "Sorting countries by mortality rates calculated from confirmed cases and deaths."
   ]
  },
  {
   "cell_type": "code",
   "execution_count": null,
   "metadata": {
    "scrolled": false
   },
   "outputs": [],
   "source": [
    "df_temp = full_df[(full_df.Date == full_df.Date.max()) & (full_df.confirmed > 1000)][['country','confirmed','death','recovered','density pop/km2','mortality%','confirmed%']].sort_values(by = 'mortality%',ascending = False)\n",
    "df_temp.style.background_gradient(cmap='Blues',subset=[\"confirmed\"])\\\n",
    "                        .background_gradient(cmap='Reds',subset=[\"death\"])\\\n",
    "                        .background_gradient(cmap='Greens',subset=[\"recovered\"])\\\n",
    "                        .background_gradient(cmap='Purples',subset=[\"density pop/km2\"])\\\n",
    "                        .background_gradient(cmap='YlOrBr',subset=[\"mortality%\"])\\\n",
    "                        .background_gradient(cmap='bone_r',subset=[\"confirmed%\"])"
   ]
  },
  {
   "cell_type": "markdown",
   "metadata": {},
   "source": [
    "### Visualizing rate of change of mortality rate through time\n",
    "<hr>\n",
    "Exploring the rate of change of the mortality percentage through time as well as continents of each country and its case count."
   ]
  },
  {
   "cell_type": "code",
   "execution_count": null,
   "metadata": {
    "scrolled": false
   },
   "outputs": [],
   "source": [
    "df_data = full_df.groupby(['Date', 'country'])['confirmed', 'death','continent','mortality%'].max().reset_index()\n",
    "df_data[\"date_reformated\"] = pd.to_datetime( df_data[\"Date\"]).dt.strftime('%m/%d/%Y')\n",
    "\n",
    "\n",
    "fig = px.scatter(df_data, y='mortality%',\n",
    "                    x= df_data[\"confirmed\"],\n",
    "                    range_y = [-1,18],\n",
    "                    range_x = [1,df_data[\"confirmed\"].max()+1000000],\n",
    "                    color= \"continent\",\n",
    "                    hover_name=\"country\",\n",
    "                    hover_data=[\"confirmed\",\"death\"],\n",
    "                    range_color= [0, max(np.power(df_data[\"confirmed\"],0.3))], \n",
    "                    animation_frame=\"date_reformated\", \n",
    "                    animation_group=\"country\",\n",
    "                    color_continuous_scale=px.colors.sequential.Plasma,\n",
    "                    title='Change in Mortality Rate of Each Countries Over Time',\n",
    "                    size = np.power(df_data[\"confirmed\"]+1,0.3)-0.5,\n",
    "                    size_max = 30,\n",
    "                    log_x=True,\n",
    "                    height =700,\n",
    "                    )\n",
    "fig.update_coloraxes(colorscale=\"hot\")\n",
    "fig.update(layout_coloraxis_showscale=False)\n",
    "fig.update_xaxes(title_text=\"Confirmed Cases (Log Scale)\")\n",
    "fig.update_yaxes(title_text=\"Mortality Rate (%)\")\n",
    "fig.show()"
   ]
  },
  {
   "cell_type": "markdown",
   "metadata": {},
   "source": [
    "#### **Conclusions :**\n",
    "<hr>\n",
    "\n",
    "- Mortality Rate indicates how health systems perform during crisis.\n",
    "- There are many Europain countries with high mortality rate and high case counts which is considered critical point.\n",
    "- Up till the 1st of March no country passed a mortality rate above 7%.\n",
    "- Up till the 1st of March no country passed a case count more than 4000 cases (excluding China).\n",
    "- Mortality rates reached over 15% in some countries in less than a month.\n",
    "- Virus is progressing fast and is in critical phase."
   ]
  },
  {
   "cell_type": "markdown",
   "metadata": {},
   "source": [
    "### Exploring Mortality rate between Continents\n",
    "<hr> \n",
    "\n",
    "Exploring mortality rates between continents and their ordinary least squares to find insights on how they interact with each other through time."
   ]
  },
  {
   "cell_type": "code",
   "execution_count": null,
   "metadata": {},
   "outputs": [],
   "source": [
    "df_data = full_df.groupby(['Date', 'country'])['confirmed', 'death','continent','mortality%'].max().reset_index()\n",
    "df_data[\"date_reformated\"] = pd.to_datetime( df_data[\"Date\"]).dt.strftime('%m/%d/%Y')\n",
    "df_data = df_data[(df_data.continent == 'Europe') | (df_data.continent == 'Africa')]\n",
    "\n",
    "fig = px.scatter(df_data, trendline = 'ols', y='mortality%',\n",
    "                    x= df_data[\"confirmed\"],\n",
    "                    range_y = [-1,18],\n",
    "                    range_x = [1,df_data[\"confirmed\"].max()+1000000],\n",
    "                    color= \"continent\",\n",
    "                    hover_name=\"country\",\n",
    "                    hover_data=[\"confirmed\",\"death\"],\n",
    "                    range_color= [0, max(np.power(df_data[\"confirmed\"],0.3))], \n",
    "                    animation_frame=\"date_reformated\", \n",
    "                    animation_group=\"country\",\n",
    "                    color_continuous_scale=px.colors.sequential.Plasma,\n",
    "                    title='Change in Mortality Rate of Europe and Africa Over Time',\n",
    "                    size = np.power(df_data[\"confirmed\"]+1,0.3)-0.5,\n",
    "                    size_max = 30,\n",
    "                    log_x=True,\n",
    "                    height =700,\n",
    "                    )\n",
    "fig.update_coloraxes(colorscale=\"hot\")\n",
    "fig.update(layout_coloraxis_showscale=False)\n",
    "fig.update_xaxes(title_text=\"Confirmed Cases (Log Scale)\")\n",
    "fig.update_yaxes(title_text=\"Mortality Rate (%)\")\n",
    "fig.show()"
   ]
  },
  {
   "cell_type": "code",
   "execution_count": null,
   "metadata": {},
   "outputs": [],
   "source": [
    "df_data = full_df.groupby(['Date', 'country'])['confirmed', 'death','continent','mortality%'].max().reset_index()\n",
    "df_data[\"date_reformated\"] = pd.to_datetime( df_data[\"Date\"]).dt.strftime('%m/%d/%Y')\n",
    "df_data = df_data[(df_data.continent == 'Europe') | (df_data.continent == 'Asia')]\n",
    "\n",
    "fig = px.scatter(df_data, trendline = 'ols', y='mortality%',\n",
    "                    x= df_data[\"confirmed\"],\n",
    "                    range_y = [-1,18],\n",
    "                    range_x = [1,df_data[\"confirmed\"].max()+1000000],\n",
    "                    color= \"continent\",\n",
    "                    hover_name=\"country\",\n",
    "                    hover_data=[\"confirmed\",\"death\"],\n",
    "                    range_color= [0, max(np.power(df_data[\"confirmed\"],0.3))], \n",
    "                    animation_frame=\"date_reformated\", \n",
    "                    animation_group=\"country\",\n",
    "                    color_continuous_scale=px.colors.sequential.Plasma,\n",
    "                    title='Change in Mortality Rate of Europe and Asia Over Time',\n",
    "                    size = np.power(df_data[\"confirmed\"]+1,0.3)-0.5,\n",
    "                    size_max = 30,\n",
    "                    log_x=True,\n",
    "                    height =700,\n",
    "                    )\n",
    "fig.update_coloraxes(colorscale=\"hot\")\n",
    "fig.update(layout_coloraxis_showscale=False)\n",
    "fig.update_xaxes(title_text=\"Confirmed Cases (Log Scale)\")\n",
    "fig.update_yaxes(title_text=\"Mortality Rate (%)\")\n",
    "fig.show()"
   ]
  },
  {
   "cell_type": "markdown",
   "metadata": {},
   "source": [
    "#### **Conclusions :**\n",
    "<hr>\n",
    "\n",
    "- African countries with high confirmed counts tend to have high mortality rate yet with low confirmed cases there is also high mortality rate. Which suggests a weak healthcare system with few exceptions.\n",
    "\n",
    "\n",
    "- European countries tend to have low mortality rate with low confirmed cases yet as the confirmed cases count increase so does the mortality rate which suggests capable healthcare system yet inefficiant at large numbers.\n",
    "\n",
    "\n",
    "- Asian countries tend to have low mortality rates regardless of the confirmed cases count yet as the count increases more than 80K they tend to have higher mortality rates yet below the average of European countries."
   ]
  },
  {
   "cell_type": "markdown",
   "metadata": {},
   "source": [
    "### Investigating countries with highest mortality rates\n",
    "<hr>\n",
    "\n",
    "Investigating high mortality rate in countries with correlation to high case count to find most critical countries affected by the current pandamic."
   ]
  },
  {
   "cell_type": "code",
   "execution_count": null,
   "metadata": {},
   "outputs": [],
   "source": [
    "df_temp = full_df[(full_df.confirmed > 2500) & (full_df.Date == full_df.Date.max())][['country','confirmed','death','recovered','density pop/km2','mortality%','confirmed%']].sort_values(by = 'mortality%',ascending = False).nlargest(10,'mortality%')\n",
    "df_temp.style.background_gradient(cmap='Blues',subset=[\"confirmed\"])\\\n",
    "                        .background_gradient(cmap='Reds',subset=[\"death\"])\\\n",
    "                        .background_gradient(cmap='Greens',subset=[\"recovered\"])\\\n",
    "                        .background_gradient(cmap='Purples',subset=[\"density pop/km2\"])\\\n",
    "                        .background_gradient(cmap='YlOrBr',subset=[\"mortality%\"])\\\n",
    "                        .background_gradient(cmap='bone_r',subset=[\"confirmed%\"])"
   ]
  },
  {
   "cell_type": "markdown",
   "metadata": {},
   "source": [
    "### Visualizing rate of change of mortality rate through time for top countries\n",
    "<hr>\n",
    "Exploring the rate of change of the mortality percentage through time as well as continents of each country and its case count for the top ten affected countries."
   ]
  },
  {
   "cell_type": "code",
   "execution_count": null,
   "metadata": {
    "scrolled": false
   },
   "outputs": [],
   "source": [
    "filter_df = full_df[(full_df.Date >= full_df.Date.quantile(1).strftime('%m/%d/%Y')) & (full_df.confirmed > 2500) ][['Date','country','continent','confirmed','death','recovered','density pop/km2','mortality%','confirmed%']].sort_values(by = 'mortality%',ascending = False)\n",
    "choice = filter_df.nlargest(10,'mortality%')['country']\n",
    "df_temp = full_df.merge(choice,how = 'right',on = 'country')\n",
    "df_temp['Date'] = pd.to_datetime(df_temp['Date']).dt.strftime('%m/%d/%Y')\n",
    "\n",
    "fig = px.scatter(df_temp,trendline='ols', y='mortality%',\n",
    "                    x = df_temp[\"confirmed\"],\n",
    "                    color= \"continent\",\n",
    "                    hover_name=\"country\",\n",
    "                    hover_data=[\"confirmed\",\"death\"],\n",
    "                    range_y = [-1,18],\n",
    "                    range_x = [-1000,df_temp[\"confirmed\"].max()+10000],\n",
    "                    range_color= [0, max(np.power(df_temp[\"confirmed\"],0.3))], \n",
    "                    animation_frame=df_temp[\"Date\"], \n",
    "                    animation_group=df_temp[\"country\"],\n",
    "                    color_continuous_scale=px.colors.sequential.Plasma,\n",
    "                    title='Change in Mortality Rate of Highest Mortality Countries Over Time',\n",
    "                    size = np.power(df_temp[\"confirmed\"]+1,0.3)-0.5,\n",
    "                    size_max = 30,\n",
    "                    log_x=False,\n",
    "                    height =700\n",
    "                    )\n",
    "fig.update_coloraxes(colorscale=\"hot\")\n",
    "fig.update(layout_coloraxis_showscale=False)\n",
    "fig.update_xaxes(title_text=\"Confirmed Cases\")\n",
    "fig.update_yaxes(title_text=\"Mortality Rate (%)\")\n",
    "fig.show()\n"
   ]
  },
  {
   "cell_type": "code",
   "execution_count": null,
   "metadata": {},
   "outputs": [],
   "source": [
    "df_temp1 = full_df[(full_df.Date == full_df.Date.max()) & (full_df.confirmed > 2500)].sort_values( by = 'mortality%').nlargest(10,'mortality%')\n",
    "df_temp = full_df.merge(df_temp1,on = 'country')\n",
    "fig = px.line(df_temp,x = 'Date_x', y = 'mortality%_x',color = 'country',title='Rate of mortality increase in highest mortality rate countries')\n",
    "fig.update_layout(xaxis_title='Date',\n",
    "                  yaxis_title=\"Mortality Rate (%)\")\n",
    "\n",
    "fig.show()"
   ]
  },
  {
   "cell_type": "markdown",
   "metadata": {},
   "source": [
    "#### **Conclusions :**\n",
    "<hr>\n",
    "\n",
    "- African countries with high confirmed counts tend to have high mortality rate yet with low confirmed cases there is also high mortality rate. Which suggests a weak healthcare system with few exceptions.\n",
    "\n",
    "\n",
    "- European countries tend to have low mortality rate with low confirmed cases yet as the confirmed cases count increase so does the mortality rate which suggests capable healthcare system yet inefficiant at large numbers.\n",
    "\n",
    "\n",
    "- Asian countries tend to have low mortality rates regardless of the confirmed cases count yet as the count increases more than 80K they tend to have higher mortality rates yet below the average of European countries."
   ]
  },
  {
   "cell_type": "markdown",
   "metadata": {},
   "source": [
    "## Countries with the highest confirmed to population ratio\n",
    "<hr> \n",
    "Investigating Critical countries where high percentage of their total population are infected."
   ]
  },
  {
   "cell_type": "code",
   "execution_count": null,
   "metadata": {},
   "outputs": [],
   "source": [
    "df_temp = full_df[(full_df.Date == full_df.Date.max()) & (full_df.confirmed > 200)][['country','continent','confirmed','death','recovered','density pop/km2','mortality%','pop','confirmed%']].sort_values(by = 'confirmed%',ascending = False).nlargest(10,'confirmed%')\n",
    "df_temp.style.background_gradient(cmap='Blues',subset=[\"confirmed\"])\\\n",
    "                        .background_gradient(cmap='Reds',subset=[\"death\"])\\\n",
    "                        .background_gradient(cmap='Greens',subset=[\"recovered\"])\\\n",
    "                        .background_gradient(cmap='Purples',subset=[\"density pop/km2\"])\\\n",
    "                        .background_gradient(cmap='YlOrBr',subset=[\"mortality%\"])\\\n",
    "                        .background_gradient(cmap='bone_r',subset=[\"confirmed%\"])\\\n",
    "                        .background_gradient(cmap='Blues',subset=[\"pop\"])"
   ]
  },
  {
   "cell_type": "code",
   "execution_count": null,
   "metadata": {},
   "outputs": [],
   "source": [
    "sub_df = full_df[full_df.Date == full_df.Date.max()].nlargest(10,'confirmed%')\n",
    "sub_df\n",
    "pxplotline(full_df,sub_df,'confirmed%',x ='Date',title='Countries with highest confirmed cases to total population ratio',hd=['pop','death','confirmed'])"
   ]
  },
  {
   "cell_type": "markdown",
   "metadata": {},
   "source": [
    "#### **Conclusions :**\n",
    "<hr>\n",
    "\n",
    "- All top ten confirmed cases % to total population are European countries. As of 25th of April.\n",
    "- San Marino is the country with highest confirmed cases % to total population at almost 1.5% as of 25th of April.\n",
    "- Spain has the highest confirmed cases on the list and with 5th country in the world with confirmed cases % to total population at almost 0.5%. As of 25th of April.\n",
    "- Italy with the highest population and second to highest mortality rate comes as the 11th highest country with confirmed cases % to total population at 0.32%. As of 25th of April.\n",
    "- Beligum with the highest mortality rate on the list (15.3%) comes as the 6th highest country with confirmed cases % to total population at 0.32% which makes it at critical point. As of 25th of April."
   ]
  },
  {
   "cell_type": "markdown",
   "metadata": {},
   "source": [
    "## Exploring Population density wrt confirmed cases\n",
    "<hr> \n",
    "Investigating countries with highest population density and how the virus spreads over time. As well as exploring the relationship between them."
   ]
  },
  {
   "cell_type": "code",
   "execution_count": null,
   "metadata": {},
   "outputs": [],
   "source": [
    "df_temp = full_df[(full_df.Date == full_df.Date.max()) & (full_df.confirmed > 2500) & (full_df['density pop/km2'] < 3500)][['country','continent','confirmed','death','recovered','density pop/km2','mortality%','pop','confirmed%']].sort_values(by = 'density pop/km2',ascending = False).nlargest(20,'density pop/km2')\n",
    "df_temp.style.background_gradient(cmap='Blues',subset=[\"confirmed\"])\\\n",
    "                        .background_gradient(cmap='Reds',subset=[\"death\"])\\\n",
    "                        .background_gradient(cmap='Greens',subset=[\"recovered\"])\\\n",
    "                        .background_gradient(cmap='Purples',subset=[\"density pop/km2\"])\\\n",
    "                        .background_gradient(cmap='YlOrBr',subset=[\"mortality%\"])\\\n",
    "                        .background_gradient(cmap='bone_r',subset=[\"confirmed%\"])\\\n",
    "                        .background_gradient(cmap='Blues',subset=[\"pop\"])"
   ]
  },
  {
   "cell_type": "markdown",
   "metadata": {},
   "source": [
    "### Exploring densities of countries with confirmed cases within IQR of 50%\n",
    "<hr> \n",
    "\n",
    "Exploring confirmed and death cases between continents and their countries, and their ordinary least squares to find insights on how they interact with each other through time."
   ]
  },
  {
   "cell_type": "code",
   "execution_count": null,
   "metadata": {},
   "outputs": [],
   "source": [
    "df_temp = full_df[full_df['Date']==full_df.Date.max()]\n",
    "q3 = np.percentile(df_temp.confirmed,75)\n",
    "q1 = np.percentile(df_temp.confirmed,25)\n",
    "IQR = q3-q1\n",
    "low = -q1 + 1.2*IQR\n",
    "high = q3 + 2.5*IQR\n",
    "df_temp = df_temp[(df_temp['confirmed']>low) & (df_temp['confirmed']<high)]\n",
    "df_temp = df_temp[df_temp['density pop/km2'] < 3500]\n",
    "df_temp = df_temp[df_temp['confirmed'] > 2500]"
   ]
  },
  {
   "cell_type": "code",
   "execution_count": null,
   "metadata": {
    "scrolled": false
   },
   "outputs": [],
   "source": [
    "px.scatter(df_temp,trendline = 'ols',y='confirmed',x='density pop/km2', size = 'pop', color='continent',hover_data=['country'], title='Variation of Population density wrt Confirmed Cases')"
   ]
  },
  {
   "cell_type": "code",
   "execution_count": null,
   "metadata": {
    "scrolled": false
   },
   "outputs": [],
   "source": [
    "px.scatter(df_temp,trendline = 'ols',y='death',x='density pop/km2', size = 'pop', color='continent',hover_data=['country'],title='Variation of Population density wrt death')"
   ]
  },
  {
   "cell_type": "markdown",
   "metadata": {},
   "source": [
    "#### **Conclusions :**\n",
    "<hr>\n",
    "\n",
    "- Seven out of the top dense populations are Asian countries.\n",
    "- Three out of the top dense populations are European countries.\n",
    "- Asian countries with high density tend to have more confirmed cases with a linear positive relationship yet a weaker linear positive relationship with their death cases.\n",
    "- European countries on the other hand has a linear strong negative relationship with both their confirmed and death cases wrt their population density."
   ]
  },
  {
   "cell_type": "markdown",
   "metadata": {},
   "source": [
    "## Exploring Population illiteracy rate wrt confirmed cases\n",
    "<hr> \n",
    "Investigating countries with highest illiterate rate to their supposed educated population wrt confirmed cases, and how the virus spreads over time. As well as exploring the relationship between them."
   ]
  },
  {
   "cell_type": "markdown",
   "metadata": {},
   "source": [
    "### Exploring the countries with the highest illiteracy rate"
   ]
  },
  {
   "cell_type": "code",
   "execution_count": null,
   "metadata": {},
   "outputs": [],
   "source": [
    "edu_full_df = full_df.merge(edu_df[['ISO','illiterate%']],on = 'ISO')\n",
    "edu_full_df_temp = edu_full_df[edu_full_df.Date == edu_full_df.Date.max()].nlargest(20,'illiterate%')\n",
    "edu_full_df_temp[['country','continent','confirmed','death','recovered','active','illiterate%']].style.background_gradient(cmap='Blues',subset=[\"confirmed\"])\\\n",
    "                        .background_gradient(cmap='Reds',subset=[\"death\"])\\\n",
    "                        .background_gradient(cmap='Greens',subset=[\"recovered\"])\\\n",
    "                        .background_gradient(cmap='Purples',subset=[\"active\"])\\\n",
    "                        .background_gradient(cmap='YlOrBr',subset=[\"illiterate%\"])\\"
   ]
  },
  {
   "cell_type": "code",
   "execution_count": null,
   "metadata": {},
   "outputs": [],
   "source": [
    "data = edu_df.sort_values('illiterate%',ascending = False)\n",
    "fig, ax = plt.subplots(figsize = (70,30))\n",
    "sns.barplot(data = data, x = 'country',y = 'illiterate%')\n",
    "_=ax.set_xticklabels(labels=data.country, rotation=90)\n",
    "plt.title('Percentage of illiteracy sorted');"
   ]
  },
  {
   "cell_type": "code",
   "execution_count": null,
   "metadata": {},
   "outputs": [],
   "source": [
    "edu_full_df = full_df.merge(edu_df[['ISO','illiterate%']],on = 'ISO')\n",
    "edu_full_df_temp = edu_full_df[edu_full_df.Date == edu_full_df.Date.max()].nlargest(20,'illiterate%')\n",
    "px.scatter(edu_full_df_temp,trendline=\"ols\",x='confirmed',y='illiterate%', size = 'pop', color='continent',hover_data=['country','continent'],title='Variation of illiteracy rate wrt confirmed cases for top 20 illiterate countries')"
   ]
  },
  {
   "cell_type": "code",
   "execution_count": null,
   "metadata": {},
   "outputs": [],
   "source": [
    "edu_full_df = full_df.merge(edu_df[['ISO','illiterate%']],on = 'ISO')\n",
    "edu_full_df_temp = edu_full_df[edu_full_df.Date == edu_full_df.Date.max()].nlargest(20,'illiterate%')\n",
    "px.scatter(edu_full_df_temp,trendline=\"ols\",y='death',x='illiterate%', size = 'pop', color='continent',hover_data=['country'],title='Variation of illiteracy rate wrt death cases for top 20 illiterate countries')"
   ]
  },
  {
   "cell_type": "markdown",
   "metadata": {},
   "source": [
    "#### **Conclusions :**\n",
    "<hr>\n",
    "\n",
    "- 18 of the top illiterate countries are African countries\n",
    "- Two of the top illiterate countries are Asian countries\n",
    "- African countries has a moderate positive relationship between illiteracy rate and confirmed and death cases suggesting that illiteracy may have a slight effect on the spread of virus in Africa.\n",
    "- Asian countries has a strong negative relationship between illiteracy rate and confirmed and death cases, suggesting that illiteracy has no effect on the spread of virus in Asia."
   ]
  },
  {
   "cell_type": "markdown",
   "metadata": {},
   "source": [
    "## Final Thoughts\n",
    "<hr>\n",
    "\n",
    "After a lengthy analysis of mentioned data, and several conclusions from varios sections of this project, we could safely assume the following:-\n",
    "\n",
    "- United states of America is considered the new virus epicenter with most confirmed cases and highest active cases.\n",
    "- Europe is the most critical continent with very high active cases, confirmed cases and mortality rates in the globe.\n",
    "- Population density has moderate positive effect on the virus spread in African countries, yet negative effect in European countries.\n",
    "- Illiteracy percentage has strong effect on the virus spread in African countries, yet negative effect in Asian countries. Suggesting other factors contributing to it and requires further analysis.\n",
    "- The virus outbreak that started in Asia rapidly shifted its effects to westarn countries and more dense locations.\n",
    "- Some European countries are on the verge of a catastrophy while some have faced the pandamic very well.\n",
    "- Lockdown was very effective in all countries in which it was applied correctly.\n",
    "- African and developing countries are at risk of turning to critical points. With high mortality rates and high case counts as well as low recovery rates.\n",
    "- Countries with high confirmed cases rate should apply a total Lockdown and enhance thier healthcare system.\n",
    "- Healthcare systems are the main anchor to this pandamic and combined with an efficient Lockdown are the most promising solution. \n",
    "\n",
    "\n",
    "<hr>\n",
    "\n",
    "***And Finally Stay Home and Stay Safe.***"
   ]
  }
 ],
 "metadata": {
  "kernelspec": {
   "display_name": "Python 3",
   "language": "python",
   "name": "python3"
  },
  "language_info": {
   "codemirror_mode": {
    "name": "ipython",
    "version": 3
   },
   "file_extension": ".py",
   "mimetype": "text/x-python",
   "name": "python",
   "nbconvert_exporter": "python",
   "pygments_lexer": "ipython3",
   "version": "3.7.3"
  }
 },
 "nbformat": 4,
 "nbformat_minor": 2
}
